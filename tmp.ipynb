{
 "cells": [
  {
   "cell_type": "markdown",
   "metadata": {},
   "source": []
  },
  {
   "cell_type": "code",
   "execution_count": 5,
   "metadata": {},
   "outputs": [],
   "source": [
    "import json\n",
    "import os\n",
    "import shutil"
   ]
  },
  {
   "cell_type": "code",
   "execution_count": 6,
   "metadata": {},
   "outputs": [
    {
     "data": {
      "text/plain": [
       "2000"
      ]
     },
     "execution_count": 6,
     "metadata": {},
     "output_type": "execute_result"
    }
   ],
   "source": [
    "with open(\"active_learning_selected_sample.json\", \"r\") as f:\n",
    "    data = json.load(f)\n",
    "\n",
    "len(data)"
   ]
  },
  {
   "cell_type": "code",
   "execution_count": 7,
   "metadata": {},
   "outputs": [],
   "source": [
    "original_images_dir = \"/mnt/home2/etri/data/train/real_images\"\n",
    "original_labels_dir = \"/mnt/home2/etri/data/train/annotations\"\n",
    "new_images_dir = \"/mnt/home/jeongjun/layout_diffusion/mc_dropout_datasets_after_selection/train/images\"\n",
    "new_labels_dir = \"/mnt/home/jeongjun/layout_diffusion/mc_dropout_datasets_after_selection/train/labels\""
   ]
  },
  {
   "cell_type": "code",
   "execution_count": 8,
   "metadata": {},
   "outputs": [],
   "source": [
    "# ../datasets/train/images/GX010237_0147.jpg\"\n",
    "\n",
    "for data_elem in data:\n",
    "    # original_images_path = os.path.join(original_images_path, data_elem)\n",
    "    original_images_path = data_elem\n",
    "    original_label_txt = data_elem.replace(\"images\",\"labels\").replace(\".jpg\", \".txt\")\n",
    "\n",
    "    image_name = original_images_path.split(\"/\")[-1]\n",
    "    label_name = original_label_txt.split(\"/\")[-1]\n",
    "\n",
    "\n",
    "    # shutil.copy(f\"{original_images_path}/{image_name}\", f\"{new_images_path}/{image_name}\")\n",
    "    # shutil.copy(f\"{original_labels_path}/{label_name}\", f\"{new_labels_path}/{label_name}\")\n",
    "    shutil.copy(original_images_path, os.path.join(new_images_dir, image_name))\n",
    "    shutil.copy(original_label_txt, os.path.join(new_labels_dir, label_name))"
   ]
  },
  {
   "cell_type": "code",
   "execution_count": 10,
   "metadata": {},
   "outputs": [
    {
     "data": {
      "text/plain": [
       "2000"
      ]
     },
     "execution_count": 10,
     "metadata": {},
     "output_type": "execute_result"
    }
   ],
   "source": [
    "len(os.listdir(new_images_dir))"
   ]
  },
  {
   "cell_type": "code",
   "execution_count": null,
   "metadata": {},
   "outputs": [],
   "source": []
  }
 ],
 "metadata": {
  "kernelspec": {
   "display_name": "geodiffusion_2",
   "language": "python",
   "name": "python3"
  },
  "language_info": {
   "codemirror_mode": {
    "name": "ipython",
    "version": 3
   },
   "file_extension": ".py",
   "mimetype": "text/x-python",
   "name": "python",
   "nbconvert_exporter": "python",
   "pygments_lexer": "ipython3",
   "version": "3.10.14"
  }
 },
 "nbformat": 4,
 "nbformat_minor": 2
}
